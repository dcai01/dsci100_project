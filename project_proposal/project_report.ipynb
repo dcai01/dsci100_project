{
 "cells": [
  {
   "cell_type": "code",
   "execution_count": 5,
   "id": "a77bd877-b538-41a7-bdd6-89b13aec8f58",
   "metadata": {
    "tags": []
   },
   "outputs": [],
   "source": [
    "# Run to load packages\n",
    "library(tidyverse)\n",
    "library(repr)\n",
    "library(dplyr)\n",
    "library(tidymodels)"
   ]
  },
  {
   "cell_type": "markdown",
   "id": "eb009012-cfc9-4036-8936-15c358eb1fac",
   "metadata": {},
   "source": [
    "## Introduction:\n",
    "- provide some relevant background information on the topic so that someone unfamiliar with it will be prepared to understand the rest of your report\n",
    "- clearly state the question you tried to answer with your project\n",
    "- identify and describe the dataset that was used to answer the question"
   ]
  },
  {
   "cell_type": "markdown",
   "id": "7faaf2d3-9d0a-40d7-9968-b7ac0173cd92",
   "metadata": {},
   "source": [
    "Tennis is a popular sport among men and women all over the world. Therefore, the analysis of factors affecting performance and success is of great interest. Since tennis players' earnings can vary widely and \"Prize Money” could reflect a player's earnings in tennis tournaments, understanding the determinants of prize money can provide insights into the financial success of professional tennis players. One main factor is ranking points. In professional tennis, players compete in various tournaments, accumulate ranking points, and move up or down in the rankings based on their performance. This system is used to determine tournament entries and player recognition. \n",
    "\n",
    "In our model, our research question is \"How can we use ranking points to predict the prize money a tennis player receives?\" To answer the question, we will be using the data `player_stats(1).csv` from Ultimate Tennis Statistics. This data set contains the statistics of the top 500 tennis players in the world. Run the next cell to load in the data."
   ]
  },
  {
   "cell_type": "code",
   "execution_count": 6,
   "id": "7ffcc2c3-e41c-455a-a1f0-179179ace87e",
   "metadata": {
    "tags": []
   },
   "outputs": [
    {
     "name": "stderr",
     "output_type": "stream",
     "text": [
      "\u001b[1m\u001b[22mNew names:\n",
      "\u001b[36m•\u001b[39m `` -> `...1`\n",
      "\u001b[1mRows: \u001b[22m\u001b[34m500\u001b[39m \u001b[1mColumns: \u001b[22m\u001b[34m38\u001b[39m\n",
      "\u001b[36m──\u001b[39m \u001b[1mColumn specification\u001b[22m \u001b[36m────────────────────────────────────────────────────────\u001b[39m\n",
      "\u001b[1mDelimiter:\u001b[22m \",\"\n",
      "\u001b[31mchr\u001b[39m (25): Age, Country, Plays, Wikipedia, Current Rank, Best Rank, Name, Bac...\n",
      "\u001b[32mdbl\u001b[39m (13): ...1, Turned Pro, Seasons, Titles, Best Season, Retired, Masters, ...\n",
      "\n",
      "\u001b[36mℹ\u001b[39m Use `spec()` to retrieve the full column specification for this data.\n",
      "\u001b[36mℹ\u001b[39m Specify the column types or set `show_col_types = FALSE` to quiet this message.\n"
     ]
    }
   ],
   "source": [
    "# run to load data set\n",
    "player_data <- read_csv(\"https://raw.githubusercontent.com/dcai01/dsci100_project/main/project_proposal/data/player_stats%20(1).csv\")"
   ]
  },
  {
   "cell_type": "markdown",
   "id": "4c4049d4-c667-484c-b9cd-9cd96b45eee8",
   "metadata": {},
   "source": [
    "## Methods & Results:\n",
    "- describe in written English the methods you used to perform your analysis from beginning to end that narrates the code the does the analysis.\n",
    "- your report should include code which:\n",
    "- loads data from the original source on the web \n",
    "- wrangles and cleans the data from it's original (downloaded) format to the format necessary for the planned analysis\n",
    "- performs a summary of the data set that is relevant for exploratory data analysis related to the planned analysis \n",
    "- creates a visualization of the dataset that is relevant for exploratory data analysis related to the planned analysis\n",
    "- performs the data analysis\n",
    "- creates a visualization of the analysis \n",
    "    - note: all tables and figure should have a figure/table number and a legend\n"
   ]
  },
  {
   "cell_type": "markdown",
   "id": "7df91d31-7391-4813-adfe-56b92483e83f",
   "metadata": {},
   "source": [
    "Starting off, we are going to clean and wrangle our data. Run the next cell to select all the relevant columns for our analysis."
   ]
  },
  {
   "cell_type": "code",
   "execution_count": 7,
   "id": "b56f83af-89a7-429a-9dea-d0d46e573086",
   "metadata": {
    "tags": []
   },
   "outputs": [
    {
     "name": "stderr",
     "output_type": "stream",
     "text": [
      "Warning message:\n",
      "“\u001b[1m\u001b[22mExpected 2 pieces. Missing pieces filled with `NA` in 399 rows [2, 3, 4, 5, 6,\n",
      "7, 8, 9, 10, 11, 12, 13, 14, 15, 18, 19, 20, 21, 22, 23, ...].”\n"
     ]
    }
   ],
   "source": [
    "# selecting relevant columns\n",
    "player_data_renamed <- player_data |>\n",
    "    separate(Age, into = c(\"age\", \"birthday\"), sep =\"\\\\(\") |>\n",
    "    separate(\"Best Rank\", into = c(\"best_rank\", \"date\"), sep =\"\\\\(\") |>\n",
    "    separate(\"Current Rank\", into = c(\"current_rank\", \"points\"), sep =\"\\\\(\") |>\n",
    "    separate(\"Prize Money\", into = c(\"prize_money\", \"dash\"), sep = \"-\")|>\n",
    "    rename(plays = Plays, backhand = Backhand, name = Name)|>\n",
    "    select(name, age, plays, current_rank, best_rank, backhand, prize_money) |>\n",
    "    drop_na()"
   ]
  },
  {
   "cell_type": "markdown",
   "id": "367d0fff-d815-4781-b7ac-3dc6b3a1e774",
   "metadata": {},
   "source": [
    "## Discussion:\n",
    "- summarize what you found\n",
    "- discuss whether this is what you expected to find?\n",
    "- discuss what impact could such findings have?\n",
    "- discuss what future questions could this lead to?"
   ]
  },
  {
   "cell_type": "markdown",
   "id": "2e71ba5b-8e99-4166-856d-9f781054059b",
   "metadata": {},
   "source": [
    "## References\n",
    "- At least 2 citations of literature relevant to the project (format is your choice, just be consistent across the references).\n",
    "- Make sure to cite the source of your data as well."
   ]
  },
  {
   "cell_type": "code",
   "execution_count": null,
   "id": "28bf1fa1-09dd-4949-a156-9a64b2b14c57",
   "metadata": {},
   "outputs": [],
   "source": []
  }
 ],
 "metadata": {
  "kernelspec": {
   "display_name": "R",
   "language": "R",
   "name": "ir"
  },
  "language_info": {
   "codemirror_mode": "r",
   "file_extension": ".r",
   "mimetype": "text/x-r-source",
   "name": "R",
   "pygments_lexer": "r",
   "version": "4.2.2"
  },
  "widgets": {
   "application/vnd.jupyter.widget-state+json": {
    "state": {},
    "version_major": 2,
    "version_minor": 0
   }
  }
 },
 "nbformat": 4,
 "nbformat_minor": 5
}
