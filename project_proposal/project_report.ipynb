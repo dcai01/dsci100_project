{
 "cells": [
  {
   "cell_type": "markdown",
   "id": "58138623-dc03-4515-ad78-b4b5c4b21593",
   "metadata": {
    "tags": []
   },
   "source": [
    "# Project Report"
   ]
  },
  {
   "cell_type": "code",
   "execution_count": null,
   "id": "a77bd877-b538-41a7-bdd6-89b13aec8f58",
   "metadata": {
    "tags": []
   },
   "outputs": [],
   "source": [
    "# Run to load packages\n",
    "install.packages(\"GGally\")\n",
    "install.packages(\"cowplot\")\n",
    "\n",
    "library(tidyverse)\n",
    "library(repr)\n",
    "library(dplyr)\n",
    "library(tidymodels)\n",
    "library(GGally)\n",
    "library(cowplot)"
   ]
  },
  {
   "cell_type": "markdown",
   "id": "e8a70d23-dd32-4171-be69-38b83258f363",
   "metadata": {},
   "source": [
    "# Introduction:"
   ]
  },
  {
   "cell_type": "markdown",
   "id": "f9c45060-d652-4e71-99c8-5ac46f1f343f",
   "metadata": {},
   "source": [
    "Tennis is a popular sport among men and women all over the world. Therefore, the analysis of factors affecting performance and success is of great interest. Since tennis players' earnings can vary widely and \"Prize Money” could reflect a player's earnings in tennis tournaments, understanding the determinants of prize money can provide insights into the financial success of professional tennis players. One main factor is ranking points. In professional tennis, players compete in various tournaments, accumulate ranking points, and move up or down in the rankings based on their performance. This system is used to determine tournament entries and player recognition. In our model, our research question is \"How can we use ranking points to predict the prize money a tennis player receives?\" To answer the question, we will be using the data `player_stats(1).csv` from Ultimate Tennis Statistics. This data set contains the statistics of the top 500 tennis players in the world.\n",
    "\n",
    "\n",
    "\n",
    "****Working on more*****"
   ]
  },
  {
   "cell_type": "markdown",
   "id": "6e50a6ec-902c-4d30-86c3-00c0fa4e9835",
   "metadata": {},
   "source": [
    "Cited Source: https://olympics.com/en/news/tennis-rankings-atp-wta-men-women-doubles-singles-system-grand-slam-olympics"
   ]
  },
  {
   "cell_type": "markdown",
   "id": "a2f03605-349c-43cd-be94-a1c29f00f16b",
   "metadata": {
    "tags": []
   },
   "source": [
    "# Data Description:"
   ]
  },
  {
   "cell_type": "markdown",
   "id": "abadde2f-1500-4ecc-ad1b-806147f804eb",
   "metadata": {
    "tags": []
   },
   "source": [
    "We use data from Ultimate Tennis Statistics, which is based on the open-source tennis data repository by Jeff Sackmann with some corrections and additions for incorrect or missing data. This database provides users with a variety of tennis statistics for men's tennis during the Open period, such as historical results, in-match statistics, records or all-time greats comparisons. The extensive nature of the dataset makes it a valuable resource for conducting in-depth analyses and deriving insights into various facets of men's tennis during the specified Open period.\n",
    "\n",
    "The original dataset contains 500 rows and 38 columns with 500 tennis players and 37 factors of interest. We have wrangled and cleaned the dataset so that we can focus only on the variables we want to explore. We have also removed all the \"NA\" values. The wrangled dataset contains 407 rows and 9 columns. \n",
    "\n",
    "Our dependent variable is a player's earnings in tennis tournaments which is represented by `prize_money` in our model (Unit: US dollar). Since prize money is a visual reflection of tennis players' income in the game, we set prize money as the independent variable. We predict the prize money income of professional tennis players in the subsequent data analysis to understand their economic success.\n",
    "\n",
    "Our main independent variable are `best_rank` and `current_rank`; `best_rank` represents a player's the highest rank they have achieved. This variable can impact a player's reputation, endorsements, and invitations to play in future prestige tournaments. `current_rank` represents a tennis player's current rank. By analyzing the current ranks of players, it allows us to analyze how their ranking point may affect their progress; having a higher current rank will allow tennis players an opportunity to enter more honored tournaments, which will impact the amount of prize money they will earn. \n",
    "\n",
    "Our control variables are `age`, `dominant_dummy` (their playing hand), and `backhand_dummy` (the use of backhand plays). \n",
    "`age` is important since younger players may have more energy and stamina, potentially providing them with a competitive advantage. On the other hand, older players may have the experience and strategic depth, but their physical condition may decline. Dominant hand and the choice of backhand style can impact a player's style and game strategy, which might be reflected in their prize earnings. We transformed the qualitative variables to its respective dummy variables, 1 is for right handed while 0 is for left handed. All of these variables provide different dimensions of a player's career and can help create a more accurate model.\n",
    "\n",
    "We have conducted a summary statistics table. For the \"Variable\" column, it lists the names or labels of the variables or features in our dataset. \n",
    "For the \"Mean\" column, it displays the average value of each variable. The mean is a measure of central tendency, representing the central or typical value in our dataset.\n",
    "For the \"Max\" column, it shows the maximum value observed for each variable. This value represents the highest point or measurement in the dataset for a particular variable. It helps identify the upper limit or extreme values within the dataset.\n",
    "For the \"Min\" column, it shows the minimum value observed for each variable. This value represents the lowest point or measurement in the dataset for a particular variable. It helps identify the lowest limit or extreme values within the dataset.\n",
    "\n",
    "\n",
    "`age` - Player's age\n",
    "\n",
    "`backhand_dummy` - Player's backhand style\t(where 1 means \"One-handed\" and 0 means \"Two-handed\")\n",
    "\n",
    "`best_rank` - Player's highest rank\n",
    "\n",
    "`current_rank` - Player's current standing\n",
    "\n",
    "`dominant_dummy` - Player's dominant hand (1 means \"Right-handed\" and 0 means \"Left-handed)\n",
    "\n",
    "`prize_money` - Player's prize money"
   ]
  },
  {
   "cell_type": "markdown",
   "id": "6d29b3b7-9831-4685-972a-1d48809d0ef3",
   "metadata": {},
   "source": [
    "Cited Source: https://www.ultimatetennisstatistics.com/about"
   ]
  },
  {
   "cell_type": "code",
   "execution_count": null,
   "id": "7ffcc2c3-e41c-455a-a1f0-179179ace87e",
   "metadata": {
    "tags": []
   },
   "outputs": [],
   "source": [
    "# run to load data set\n",
    "player_data <- read_csv(\"https://raw.githubusercontent.com/dcai01/dsci100_project/main/project_proposal/data/player_stats%20(1).csv\")\n",
    "num_rows <- nrow(player_data)\n",
    "num_rows\n",
    "num_cols <- ncol(player_data)\n",
    "num_cols"
   ]
  },
  {
   "cell_type": "code",
   "execution_count": null,
   "id": "c9f4953a-d3b9-43c0-b944-0ecba762399d",
   "metadata": {
    "tags": []
   },
   "outputs": [],
   "source": [
    "head(player_data)\n",
    "#The original dataset contains 500 rows and 38 columns with 500 tennis players and 37 factors of interest."
   ]
  },
  {
   "cell_type": "markdown",
   "id": "7df91d31-7391-4813-adfe-56b92483e83f",
   "metadata": {},
   "source": [
    "Run the next cell tidy up the data. We are going to select the columns of data we are interested in and rename our variables."
   ]
  },
  {
   "cell_type": "code",
   "execution_count": null,
   "id": "a72c7742-e828-4af4-ab01-fe35c99a9fce",
   "metadata": {
    "tags": []
   },
   "outputs": [],
   "source": [
    "set.seed(1000)\n",
    "# Run to view tidied/wrangled data\n",
    "player_data$\"Prize Money\" <- gsub(\"[^0-9.-]\", \"\", player_data$\"Prize Money\")\n",
    "\n",
    "player_data_renamed <- player_data |>\n",
    "    separate(Age, into = c(\"age\", \"birthday\"), sep =\"\\\\(\") |>\n",
    "    separate(\"Best Rank\", into = c(\"best_rank\", \"date\"), sep =\"\\\\(\") |>\n",
    "    separate(\"Current Rank\", into = c(\"current_rank\", \"points\"), sep =\"\\\\(\") |>\n",
    "    separate(\"Prize Money\", into = c(\"prize_money\", \"dash\"), sep = \"-\")|>\n",
    "    rename(plays = Plays, backhand = Backhand, name = Name)|>\n",
    "    select(name, age, plays, current_rank, best_rank, backhand, prize_money) |>\n",
    "    drop_na()\n",
    "\n",
    "player_data_renamed$dominant_dummy <- ifelse(player_data_renamed$plays == \"Right-handed\", 1, 0) #1 means \"Right-handed\" and 0 means \"Left-handed\t\n",
    "player_data_renamed$backhand_dummy <- ifelse(player_data_renamed$backhand == \"One-handed\", 1, 0) #1 means \"One-handed\t\" and 0 means \"Two-handed\"\n",
    "\n",
    "player_data_renamed <- player_data_renamed |>\n",
    "                       mutate(age = as.numeric(age),\n",
    "                              current_rank = as.numeric(current_rank),\n",
    "                              best_rank = as.numeric(best_rank),\n",
    "                              prize_money = as.numeric(prize_money),\n",
    "                              plays = as.numeric(plays),\n",
    "                              backhand = as.numeric(backhand))\n",
    "\n",
    "head(player_data_renamed)"
   ]
  },
  {
   "cell_type": "markdown",
   "id": "cd4f5dad-1dd4-4358-9758-146f71176f94",
   "metadata": {},
   "source": [
    "Run the cell below to select the columnms we are interested in using for our analysis into `player_data_selected`."
   ]
  },
  {
   "cell_type": "code",
   "execution_count": null,
   "id": "a4d073fb-4509-4425-bdcb-cf3326c6de28",
   "metadata": {
    "tags": []
   },
   "outputs": [],
   "source": [
    "player_data_selected<-as_tibble(player_data_renamed)|>\n",
    "                    select(age, current_rank, best_rank, prize_money, dominant_dummy, backhand_dummy, plays, backhand) \n",
    "head(player_data_selected)"
   ]
  },
  {
   "cell_type": "markdown",
   "id": "3c773516-1be0-4576-9835-eaf1f6f1c9d0",
   "metadata": {},
   "source": [
    "\n"
   ]
  },
  {
   "cell_type": "markdown",
   "id": "e3747725-8f3d-4fe4-b79a-c6923b54afc1",
   "metadata": {},
   "source": [
    "Before we perform our exploratory data analysis, we are going to create our training and testing data sets. Our training data will be called `player_train` and our testing data will be called `player_test`."
   ]
  },
  {
   "cell_type": "code",
   "execution_count": null,
   "id": "c98fa7ed-bc55-4c26-a45e-41c6ac2184b2",
   "metadata": {
    "tags": []
   },
   "outputs": [],
   "source": [
    "# Run to split data into training and testing set\n",
    "player_split <- initial_split(player_data_selected, prop = 0.75, strata = prize_money)\n",
    "player_train <- training(player_split) |>\n",
    "   select (-plays)|>\n",
    "    select(-backhand)\n",
    "\n",
    "player_test <- testing(player_split)|>\n",
    "  select (-plays)|>\n",
    "    select(-backhand)"
   ]
  },
  {
   "cell_type": "markdown",
   "id": "040cb509-43c4-4009-b2c3-f233398eaf25",
   "metadata": {
    "tags": []
   },
   "source": [
    "Next, we are summarizing the player data into its mean values (`player_summarize_mean`), maximum values (`player_summarize_max`), and minimum values (`player_summarize_min`). After performing the summarization of our player data, we are merging the data together by Variables (i.e. backhand, age, rank, etc.) into `player_summarize_data`."
   ]
  },
  {
   "cell_type": "code",
   "execution_count": null,
   "id": "bbc27249-f1b8-4276-aee6-65e179833a5c",
   "metadata": {
    "tags": []
   },
   "outputs": [],
   "source": [
    "# Run to calculate mean, max and min of each variable\n",
    "player_summarize_mean <- player_train |>\n",
    "                         \n",
    "                        map_dfr(mean, na.rm = TRUE) |>\n",
    "                        round(1) |>\n",
    "                         pivot_longer(\n",
    "                          cols = age:backhand_dummy,\n",
    "                          names_to = \"Variable\",\n",
    "                          values_to = \"Mean\")\n",
    "\n",
    "                        \n",
    "player_summarize_max <- player_train |>\n",
    "                        \n",
    "                        map_dfr(max, na.rm = TRUE)|>\n",
    "                        pivot_longer(\n",
    "                        cols = age:backhand_dummy,\n",
    "                        names_to = \"Variable\",\n",
    "                        values_to = \"Max\")\n",
    "\n",
    "player_summarize_min <- player_train |>\n",
    "                       \n",
    "                        map_dfr(min, na.rm = TRUE)|>\n",
    "                        pivot_longer(\n",
    "                        cols = age:backhand_dummy,\n",
    "                        names_to = \"Variable\",\n",
    "                        values_to = \"Min\") \n",
    "\n",
    "player_summarize_data_v1 = merge(player_summarize_mean, player_summarize_max, by = \"Variable\")\n",
    "player_summarize_data_v2 = merge(player_summarize_data_v1,player_summarize_min, by = \"Variable\")\n",
    "\n",
    "\n",
    "player_summarize_data_v2\n",
    "\n",
    "#Table 1\n"
   ]
  },
  {
   "cell_type": "markdown",
   "id": "255f235f-7334-4e3f-99bf-73a62981c040",
   "metadata": {},
   "source": [
    "From the summarization of the variables (table 1), it allows us to analyze average, maximum, and minimum value of each variable. For `age`, the average age of tennis players is 26 years old, while the oldest player is 40 and the youngest player is 17. The average `best_rank` of players is 146th place, with the lowest rank being 488th place and the highest rank being 1st place. The `current_rank`of players is 224th place, with the lowest rank being 500th place and the highest rank being 1st place. With this analysis, we summarized that the average player prize money being $\\$ $77568263, with the largest amount of money received being $\\$ $2746601610 and the lowest amount of money received being $\\$ $2980."
   ]
  },
  {
   "cell_type": "markdown",
   "id": "2b34b40e-039e-4b9e-9707-09b0477866e9",
   "metadata": {
    "tags": []
   },
   "source": [
    "# Methods & Results:"
   ]
  },
  {
   "cell_type": "markdown",
   "id": "61c5663e-b726-4b98-8628-2d25d407a25a",
   "metadata": {
    "tags": []
   },
   "source": [
    "We will use a regression model to predict the expected prize money for a tennis athlete by using multiple variables to answer our research question.\n",
    "\n",
    "\n",
    "We use scatter plots and box plots to visualize the results, which depict the relationships between independent variables with prize money as the dependent variable. \n",
    "By examining scatter plots, we can gain valuable insights, such as if the points cluster in a specific pattern, it may suggest a correlation or relationship between independent variables and prize money. Additionally, the color-coded data points help us distinguish players with different dominant hands, potentially revealing variations in prize money earnings based on this characteristic. (*******more work*******)\n",
    "\n",
    "By examining box plots, we...\n",
    "Figure 4 shows that \n",
    "Figure 5\n",
    "\n",
    "\n",
    "We conduct a linear regression to perfrom our analysis."
   ]
  },
  {
   "cell_type": "markdown",
   "id": "0f82577d-7f73-4439-be29-701475495a7a",
   "metadata": {},
   "source": [
    "- describe in written English the methods you used to perform your analysis from beginning to end that narrates the code the does the analysis.\n",
    "- your report should include code which:\n",
    "- loads data from the original source on the web \n",
    "- wrangles and cleans the data from it's original (downloaded) format to the format necessary for the planned analysis\n",
    "- performs a summary of the data set that is relevant for exploratory data analysis related to the planned analysis \n",
    "- creates a visualization of the dataset that is relevant for exploratory data analysis related to the planned analysis\n",
    "- performs the data analysis\n",
    "- creates a visualization of the analysis \n",
    "    - note: all tables and figure should have a figure/table number and a legend\n"
   ]
  },
  {
   "cell_type": "markdown",
   "id": "b5eff3de-327b-400e-b1a0-dc34104fe86c",
   "metadata": {},
   "source": [
    "We firstly use the `ggpairs()` function from the GGally package to explore the relationships between the different variables. "
   ]
  },
  {
   "cell_type": "code",
   "execution_count": null,
   "id": "bc71f458-1d15-4bcf-be2f-b92d1fe5f0b0",
   "metadata": {
    "tags": []
   },
   "outputs": [],
   "source": [
    "set.seed(1000) # DO NOT REMOVE\n",
    "\n",
    "options(repr.plot.height = 8, repr.plot.width = 9)\n",
    " player_pairplot <- player_train |> \n",
    "                         \n",
    "     ggpairs(\n",
    "         lower = list(continuous = wrap('points', alpha = 0.4)),\n",
    "         diag = list(continuous = \"barDiag\")\n",
    "     ) +\n",
    "     theme(text = element_text(size = 8))\n",
    "\n",
    "player_pairplot\n",
    "#Figure 0"
   ]
  },
  {
   "cell_type": "markdown",
   "id": "a12ba0a7-2394-4f79-a45b-e08286407e7a",
   "metadata": {},
   "source": [
    "From Figure 0, we could explore the relationship between the different variables. \n",
    "`age` ：\n",
    "positive correlation (0.246) with `prize_money`\n",
    "negative correlation (-0.189) with `current_rank`\n",
    "negative correlation (-0.510) with `best_rank`\n",
    "positive correlation (-0.240) with `backhand_dummy`\n",
    "no significant correlation with `dominant_dummy`;\n",
    "\n",
    "`current_rank`:\n",
    "negative correlation (-0.263) with `prize_money`\n",
    "positive correlation (-0.796) with `best_rank`\n",
    "no significant correlation with `backhand_dummy`\n",
    "no significant correlation with `dominant_dummy`;\n",
    "\n",
    "`best_rank`:\n",
    "negative correlation (-0.239) with `prize_money`\n",
    "no significant correlation with `backhand_dummy`\n",
    "no significant correlation with `dominant_dummy`;"
   ]
  },
  {
   "cell_type": "markdown",
   "id": "46f272cd-da80-4dd0-9015-a2983d0c4970",
   "metadata": {
    "tags": []
   },
   "source": [
    "## Prize Money vs Variables Comparisons:\n",
    "In the next step, we will analyze each variable in relation to Prize money and how they correlate.\n",
    "\n",
    "First, we will compare Prize Money and Current Rank:"
   ]
  },
  {
   "cell_type": "code",
   "execution_count": null,
   "id": "26214d55-354f-4c90-ba07-2c52cc8d0fa1",
   "metadata": {
    "tags": []
   },
   "outputs": [],
   "source": [
    "install.packages(\"parsnip\")\n",
    "library(parsnip)"
   ]
  },
  {
   "cell_type": "code",
   "execution_count": null,
   "id": "4f68e670-abc7-4c7c-8594-273a3fc3d117",
   "metadata": {
    "tags": []
   },
   "outputs": [],
   "source": [
    "install.packages(\"hardhat\")\n",
    "library(recipes)"
   ]
  },
  {
   "cell_type": "code",
   "execution_count": null,
   "id": "2bda0bbd-8383-4547-94e7-13ba230ee53e",
   "metadata": {},
   "outputs": [],
   "source": [
    "# Run to see plot comparing prize money and current rank\n",
    "options(repr.plot.width = 10, repr.plot.height = 5) \n",
    "small_plot_current_1 <- ggplot(player_train, aes(x = current_rank, y = prize_money)) +\n",
    "  geom_point(alpha = 0.5) +\n",
    "  xlab(\"Current Rank\") +\n",
    "  xlim(0, 500) +\n",
    "  ylim(0, 2500000) +\n",
    "  ylab(\"Prize Money (USD)\") +\n",
    "  theme(text = element_text(size = 12)) +\n",
    "  ggtitle(\"Prize Money (USD) VS Current Rank (Figure 1)\")\n",
    "small_plot_current_1\n",
    "\n",
    "#Figure 1"
   ]
  },
  {
   "cell_type": "markdown",
   "id": "58fe8018-a1cb-49e1-bcb3-2baf4fe7287c",
   "metadata": {},
   "source": [
    "We can see the relation of Prize money and Current Rank based on Figure 1. In Figure 1, we observed that money and ranks have negative relationship: in most cases, the higher the rank, the more money, but as the players go lower in rank, they will receive less money. \n",
    "\n",
    "Next we will compare the relationship between Best Rank and Prize money:"
   ]
  },
  {
   "cell_type": "code",
   "execution_count": null,
   "id": "ba24d22f-4b1a-449c-91e2-606e61c3ae72",
   "metadata": {
    "tags": []
   },
   "outputs": [],
   "source": [
    "# Run to see plot comparing prize money and best rank \n",
    "\n",
    "options(repr.plot.width = 10, repr.plot.height = 5) \n",
    "small_plot_best <- ggplot(player_train, aes(x = best_rank, y = prize_money)) +\n",
    "  geom_point(alpha = 0.5) +\n",
    "  xlab(\"Best Rank\") +\n",
    "  xlim(0, 500) +\n",
    "  ylim(0, 2500000) +\n",
    "  ylab(\"Prize Money (USD)\") +\n",
    "  theme(text = element_text(size = 12)) +\n",
    "  ggtitle(\"Prize Money (USD) VS Best Rank (Figure 2)\")\n",
    "\n",
    "small_plot_best\n",
    "\n",
    "#Figure 2"
   ]
  },
  {
   "cell_type": "markdown",
   "id": "d5dcc67a-2ca9-45ba-aca5-a7d549446ab9",
   "metadata": {},
   "source": [
    "Based on Figure 2, Prize Money vs. Best Rank, we can see a more precise negative relationship with both variables. The negative relationship is similar to the relationship in Figure 1: the higher the rank, the more money the player will receive, and as the ranks get lower, the less money a player will receive.\n",
    "\n",
    "Based on Figure 1 and Figure 2, we observed that ranking will affect the amount of prize money the tennis player will receive.\n",
    "\n",
    "Knowing that the rankings affect prize money, we want to see if the age of a player will relate to how much money they can receive. Below, we will create scatterplot to see the relationship between player's age in relation to prize money."
   ]
  },
  {
   "cell_type": "code",
   "execution_count": null,
   "id": "3b1f3e4a-a170-4218-ab48-67d6d03a0445",
   "metadata": {
    "tags": []
   },
   "outputs": [],
   "source": [
    "# Run to see plot comparing prize money and age\n",
    "\n",
    "options(repr.plot.width = 10, repr.plot.height = 5) \n",
    "small_plot_age <- ggplot(player_train, aes(x = age, y = prize_money)) +\n",
    "  geom_point(alpha = 0.5) +\n",
    "  xlab(\"Age\") +\n",
    "  xlim(12, 50) +\n",
    "  ylim(0, 2500000) +\n",
    "  ylab(\"Prize Money (USD)\") +\n",
    "  theme(text = element_text(size = 12)) +\n",
    "  ggtitle(\"Prize Money (USD) VS Age (Figure 3)\")\n",
    "\n",
    "\n",
    "small_plot_age\n",
    "\n",
    "#Figure 3"
   ]
  },
  {
   "cell_type": "markdown",
   "id": "59c9daf4-a8c0-475d-8191-d72987776f3f",
   "metadata": {},
   "source": [
    "With Figure 3, there is a slight positive relationship with age and prize money; Newer tennis athletes wouldn't receive much because they are new to the top-league competitions and wouldn't be playing in bigger competitions yet, while older players would receive more money because they are more experienced and with being more experienced, they are able to compete in the bigger tennis leagues to earn more money."
   ]
  },
  {
   "cell_type": "markdown",
   "id": "f800a6ad-47c5-4546-9cca-f74b9664a3a2",
   "metadata": {},
   "source": [
    "## Prize Money in Relation to Dominant and Backhand Variables:\n",
    "We want to see how a player's prize money will be affected depending on what hand they use. Would right-handed players make more, less or the same amount as left-handed players? In order to compare this, we will analyze it using a boxplot for both their plays (when hand they usually play with) and their backhand (which hand they usually play when using backhand).\n",
    "First, we want... (ADD MORE)"
   ]
  },
  {
   "cell_type": "code",
   "execution_count": null,
   "id": "32b08d9e-0dd5-447b-bae5-5737c771b868",
   "metadata": {
    "tags": []
   },
   "outputs": [],
   "source": [
    "dominant_dummy_1 <- player_train |>\n",
    " select(dominant_dummy, prize_money)|>\n",
    "  filter (dominant_dummy==1)\n",
    "\n",
    "head(dominant_dummy_1)\n",
    "\n",
    "dominant_dummy_0 <- player_train |>\n",
    " select(dominant_dummy,  prize_money)|>\n",
    "  filter (dominant_dummy==0)\n",
    "head(dominant_dummy_0)\n",
    "\n",
    "dominant_dummy_1_test <- player_test |>\n",
    " select(dominant_dummy, prize_money)|>\n",
    "  filter (dominant_dummy==1)\n",
    "\n",
    "head(dominant_dummy_1_test)\n",
    "\n",
    "dominant_dummy_0_test <- player_test |>\n",
    " select(dominant_dummy,  prize_money)|>\n",
    "  filter (dominant_dummy==0)\n",
    "head(dominant_dummy_0_test)"
   ]
  },
  {
   "cell_type": "code",
   "execution_count": null,
   "id": "284b4a82-0d30-4c0a-b55e-58e5384d660c",
   "metadata": {
    "tags": []
   },
   "outputs": [],
   "source": [
    "# Run to see plot comparing prize money and dominant hand\n",
    "\n",
    "options(repr.plot.width = 7, repr.plot.height = 5) \n",
    "small_plot_hand_1 <- ggplot(dominant_dummy_1, aes(x = dominant_dummy, y = prize_money)) +\n",
    "  geom_boxplot(alpha=0.4) +\n",
    "  xlab(\"Dominant Hand\") +\n",
    "  xlim(0,1) +\n",
    "  ylim(0, 2500000) +\n",
    "  scale_x_continuous(breaks = c(0, 1), labels = c(\"Left-handed\", \"Right-handed\")) +\n",
    "  ylab(\"Prize Money (USD)\") +\n",
    "  labs(color = \"Dominant Hand\") +\n",
    "  theme(text = element_text(size = 12)) +\n",
    "  ggtitle(\"Prize Money (USD) VS Dominant Hand (right-handed)\")\n",
    "\n",
    "\n",
    "options(repr.plot.width = 7, repr.plot.height = 5) \n",
    "small_plot_hand_0 <- ggplot(dominant_dummy_0, aes(x = dominant_dummy, y = prize_money)) +\n",
    "  geom_boxplot(alpha=0.4) +\n",
    "  xlab(\"Dominant Hand\") +\n",
    "  xlim(0,1) +\n",
    "  ylim(0, 2500000) +\n",
    "  scale_x_continuous(breaks = c(0, 1), labels = c(\"Left-handed\", \"Right-handed\")) +\n",
    "  ylab(\"Prize Money (USD)\") +\n",
    "  labs(color = \"Dominant Hand\") +\n",
    "  theme(text = element_text(size = 12)) +\n",
    "  ggtitle(\"Prize Money (USD) VS Dominant Hand (left-handed)\")\n",
    "\n",
    "\n",
    "options(repr.plot.width = 12, repr.plot.height = 5) \n",
    "small_plot_hand <- plot_grid(\n",
    "small_plot_hand_1,\n",
    "  small_plot_hand_0,\n",
    "     nrow = 1\n",
    " )\n",
    "\n",
    "small_plot_hand\n",
    "#Figure 4"
   ]
  },
  {
   "cell_type": "markdown",
   "id": "790f7af6-99c6-432d-bb8a-5ffaa3e18365",
   "metadata": {},
   "source": [
    "As shown in Figure 4, Quartile 1 (lower quartile) of the prizes are roughly the same in both groups ($0 - $125,000). The median (middle quartile / Quartile 2) is very close between right-handed players and left-handed players, with half of the prizes greater than or equal to approximately $370,000 and half are less. The boxplot of right-handed player is comparatively short. This suggests that there is a greater range of variation in overall prize money for left-handed players compared to prize money for right-handed players. In fact, Quartile 3 of prizes for left-handed players ranges from about $370,000 to $900,000, while Quartile 3 of prizes for right-handed players ranges from about $370,000 to $600,000. Quartile 4 of the prizes for left-handed players ranged from about $900,000 to $2,000,000, while Quartile 4 of the prizes for right-handed players ranged from about $960,000 to $1,500,000. At the same time, there are more outliers (observations that are numerically very different from the rest of the data) in the right-handed group."
   ]
  },
  {
   "cell_type": "code",
   "execution_count": null,
   "id": "801c3fdf-9232-4079-8f32-ec878d56ad57",
   "metadata": {
    "tags": []
   },
   "outputs": [],
   "source": [
    "backhand_dummy_1 <- player_train |>\n",
    " select(backhand_dummy, prize_money)|>\n",
    "  filter(backhand_dummy==1)\n",
    "head(backhand_dummy_1)\n",
    "\n",
    "backhand_dummy_0 <- player_train |>\n",
    " select(backhand_dummy,  prize_money)|>\n",
    "  filter(backhand_dummy==0)\n",
    "head(backhand_dummy_0)\n",
    "\n",
    "\n",
    "backhand_dummy_1_test <- player_test |>\n",
    " select(backhand_dummy, prize_money)|>\n",
    "  filter(backhand_dummy==1)\n",
    "head(backhand_dummy_1_test)\n",
    "\n",
    "backhand_dummy_0_test <- player_test |>\n",
    " select(backhand_dummy,  prize_money)|>\n",
    "  filter(backhand_dummy==0)\n",
    "head(backhand_dummy_0_test)"
   ]
  },
  {
   "cell_type": "markdown",
   "id": "6f259fc7-c05b-4a11-969b-ccf7d913b425",
   "metadata": {},
   "source": [
    "The boxplot shows that left-handed players have very similar median (middle quartile) of prize money (about $\\$260000 - $\\$280000) compare with right-handed players. The distribution of the variance in prizes is larger for left-handed players than for right-handed players. The top 25% of left-handed player have relatively higher prize money, even though right-handed group tends to have more possibile outliers. A research paper states that over a 32-year period, left-handed male and female professional tennis singles players were significantly over-represented among successful athletes, which means that left-handed people are likely to be more talented in tennis than right-handed people (Holtzen, 2000).The results we reached are consistent with the conclusions in this paper. "
   ]
  },
  {
   "cell_type": "code",
   "execution_count": null,
   "id": "9e414a26-6e7a-4a1d-be1f-c73ab9b11298",
   "metadata": {
    "tags": []
   },
   "outputs": [],
   "source": [
    "# Run to see plot comparing prize money and backhand use\n",
    "\n",
    "options(repr.plot.width = 7, repr.plot.height = 5) \n",
    "small_plot_backhand_1 <- ggplot(backhand_dummy_1, aes(x = backhand_dummy, y = prize_money)) +\n",
    "  geom_boxplot(alpha=0.4) +\n",
    "  xlab(\"Backhand\") +\n",
    "  xlim(0,1) +\n",
    "  ylim(0, 2500000) +\n",
    "  scale_x_continuous(breaks = c(0, 1), labels = c(\"Two-handed\",\"One-handed\")) +\n",
    "  ylab(\"Prize Money (USD)\") +\n",
    "  labs(color = \"Backhand\") +\n",
    "  theme(text = element_text(size = 12)) +\n",
    "  ggtitle(\"Prize Money (USD) VS Backhand (one-handed)\")\n",
    "\n",
    "small_plot_backhand_0 <- ggplot(backhand_dummy_0, aes(x = backhand_dummy, y = prize_money)) +\n",
    "  geom_boxplot(alpha=0.4) +\n",
    "  xlab(\"Backhand\") +\n",
    "  xlim(0,1) +\n",
    "  ylim(0, 2500000) +\n",
    "  scale_x_continuous(breaks = c(0, 1), labels = c(\"Two-handed\",\"One-handed\")) +\n",
    "  ylab(\"Prize Money (USD)\") +\n",
    "  labs(color = \"Backhand\") +\n",
    "  theme(text = element_text(size = 12)) +\n",
    "  ggtitle(\"Prize Money (USD) VS Backhand (two-handed)\")\n",
    "\n",
    "options(repr.plot.width = 12, repr.plot.height = 5) \n",
    "small_plot_backhand <- plot_grid(\n",
    "small_plot_backhand_1,\n",
    "small_plot_backhand_0,\n",
    "     nrow = 1\n",
    " )\n",
    "\n",
    "small_plot_backhand\n",
    "#Figure 5"
   ]
  },
  {
   "cell_type": "markdown",
   "id": "9bbedd65-c706-435a-bacb-0b6c18e43a96",
   "metadata": {},
   "source": [
    "As shown in Figure 5, Quartile 1 (lower quartile) of the prizes are roughly the same in both groups ($0 - $125,000). The median prize (middle quartile / Quartile 2) of one-handed players (~ $375,000)is higher than two-handed players (~ $260,000). The boxplot of two-handed player is comparatively short. This suggests that there is a greater range of variation in overall prize money for one-handed players compared to prize money for two-handed players. In fact, Quartile 3 of prizes for one-handed players ranges from about $375,000 to $1,600,000, while Quartile 3 of prizes for two-handed players ranges from about $260,000 to $740,000. Quartile 4 of the prizes for one-handed players ranged from about $1,600,000 to $2,400,000, while Quartile 4 of the prizes for two-handed players ranged from about $740,000 to $1,500,000. At the same time, there are more outliers (observations that are numerically very different from the rest of the data) in the two-handed group."
   ]
  },
  {
   "cell_type": "markdown",
   "id": "f609411e-df78-4edb-b3db-a516f5e46be2",
   "metadata": {},
   "source": [
    "## Model: Model Predictions (Current Rank)"
   ]
  },
  {
   "cell_type": "code",
   "execution_count": null,
   "id": "caf282bc-adae-41b4-b928-bf57a0611d72",
   "metadata": {
    "tags": []
   },
   "outputs": [],
   "source": [
    "#run this cell to create linear regression model\n",
    "lm_spec <- linear_reg() |>\n",
    "           set_engine(\"lm\") |>\n",
    "           set_mode(\"regression\")"
   ]
  },
  {
   "cell_type": "code",
   "execution_count": null,
   "id": "194e2e9f-ad14-42dc-8d63-01dffe80e2bc",
   "metadata": {
    "tags": []
   },
   "outputs": [],
   "source": [
    "lm_recipe_current <- recipe(prize_money ~ current_rank, data = player_train)\n",
    "\n",
    "lm_fit_current <- workflow() |>\n",
    "  add_recipe(lm_recipe_current) |>\n",
    "  add_model(lm_spec) |>\n",
    "  fit(data = player_train)\n",
    "\n",
    "options(repr.plot.width = 8, repr.plot.height = 7)\n",
    "\n",
    " current_preds <- lm_fit_current |>\n",
    "   predict(player_train) |>\n",
    "   bind_cols(player_train)\n",
    "\n",
    " lm_predictions_current <- current_preds |>\n",
    "     ggplot(aes(x = current_rank, y = prize_money)) +\n",
    "         geom_point(alpha = 0.4) +\n",
    "         geom_line(\n",
    "             mapping = aes(x = current_rank, y = .pred), \n",
    "             color = \"blue\") +\n",
    "         xlab(\"Current Rank\") +\n",
    "         ylab(\"Prize Money (Predicted)\") +\n",
    "         theme(text = element_text(size = 20))\n",
    "lm_predictions_current\n",
    "\n",
    "#Figure 6"
   ]
  },
  {
   "cell_type": "code",
   "execution_count": null,
   "id": "8114790e-d6c2-4043-bcdb-13dce70ddab2",
   "metadata": {
    "tags": []
   },
   "outputs": [],
   "source": [
    "options(repr.plot.width = 8, repr.plot.height = 7)\n",
    "\n",
    "\n",
    "test_preds_current <- predict(lm_fit_current, player_test)\n",
    "test_preds_final_current <- bind_cols(test_preds_current, player_test)\n",
    "\n",
    "lm_predictions_current_test <- ggplot(data = player_test, aes(x = current_rank, y = prize_money)) +\n",
    "  geom_point(alpha = 0.4) +\n",
    "  geom_line(data = test_preds_final_current, aes(x = current_rank , y = .pred), color = \"yellow\", size = 1) +\n",
    "      labs(x = \"Current Rank\", y = \"Prize Money (Actual and Predicted)\") +\n",
    "  ggtitle(\"Linear Regression Model Predictions on Test Data\") +\n",
    "  theme(text = element_text(size = 20))\n",
    "\n",
    "\n",
    "lm_predictions_current_test\n",
    "\n",
    "#Figure 7"
   ]
  },
  {
   "cell_type": "markdown",
   "id": "a94fdce5-2785-49e2-9df9-8ef24026e9f3",
   "metadata": {},
   "source": [
    "## Model: Model Predictions (Best Rank)"
   ]
  },
  {
   "cell_type": "code",
   "execution_count": null,
   "id": "6df6fc83-50fd-4206-afc5-929191248ffc",
   "metadata": {
    "tags": []
   },
   "outputs": [],
   "source": [
    "lm_recipe_best <- recipe(prize_money ~ best_rank, data = player_train)\n",
    "\n",
    "lm_fit_best <- workflow() |>\n",
    "  add_recipe(lm_recipe_best) |>\n",
    "  add_model(lm_spec) |>\n",
    "  fit(data = player_train)\n",
    "\n",
    "options(repr.plot.width = 8, repr.plot.height = 7)\n",
    "\n",
    "best_preds <- lm_fit_best |>\n",
    "   predict(player_train) |>\n",
    "   bind_cols(player_train)\n",
    "\n",
    "lm_predictions_best <- best_preds |>\n",
    "     ggplot(aes(x = best_rank, y = prize_money)) +\n",
    "         geom_point(alpha = 0.4) +\n",
    "         geom_line(\n",
    "             mapping = aes(x = best_rank, y = .pred), \n",
    "             color = \"blue\") +\n",
    "         xlab(\"Best Rank\") +\n",
    "         ylab(\"Prize Money (Predicted)\") +\n",
    "         theme(text = element_text(size = 20))\n",
    "\n",
    "lm_predictions_best\n"
   ]
  },
  {
   "cell_type": "code",
   "execution_count": null,
   "id": "9e08514c-d4f4-4030-b053-b2cb66f4a7e1",
   "metadata": {
    "tags": []
   },
   "outputs": [],
   "source": [
    "options(repr.plot.width = 8, repr.plot.height = 7)\n",
    "\n",
    "\n",
    "test_preds_best <- predict(lm_fit_best, player_test)\n",
    "test_preds_final_best <- bind_cols(test_preds_best, player_test)\n",
    "\n",
    "lm_predictions_best_test <- ggplot(data = player_test, aes(x = best_rank, y = prize_money)) +\n",
    "  geom_point(alpha = 0.4) +\n",
    "  geom_line(data = test_preds_final_best, aes(x = best_rank , y = .pred), color = \"yellow\", size = 1) +\n",
    "      labs(x = \"Best Rank\", y = \"Prize Money (Actual and Predicted)\") +\n",
    "  ggtitle(\"Linear Regression Model Predictions on Test Data\") +\n",
    "  theme(text = element_text(size = 20))\n",
    "\n",
    "\n",
    "lm_predictions_best_test"
   ]
  },
  {
   "cell_type": "markdown",
   "id": "43761b00-6f4b-4a4e-bd49-4fd861078571",
   "metadata": {},
   "source": [
    "## Model: Model Predictions (Age)"
   ]
  },
  {
   "cell_type": "code",
   "execution_count": null,
   "id": "385d30cb-c80e-4b21-84c4-3448af1cffc9",
   "metadata": {
    "tags": []
   },
   "outputs": [],
   "source": [
    "lm_recipe_age <- recipe(prize_money ~ age, data = player_train)\n",
    "\n",
    "lm_fit_age <- workflow() |>\n",
    "  add_recipe(lm_recipe_age) |>\n",
    "  add_model(lm_spec) |>\n",
    "  fit(data = player_train)\n",
    "\n",
    "options(repr.plot.width = 8, repr.plot.height = 7)\n",
    "\n",
    "age_preds <- lm_fit_age |>\n",
    "   predict(player_train) |>\n",
    "   bind_cols(player_train)\n",
    "\n",
    "lm_predictions_age <- age_preds |>\n",
    "     ggplot(aes(x = age, y = prize_money)) +\n",
    "         geom_point(alpha = 0.4) +\n",
    "         geom_line(\n",
    "             mapping = aes(x = age, y = .pred), \n",
    "             color = \"blue\") +\n",
    "         xlab(\"Age\") +\n",
    "         ylab(\"Prize Money (Predicted)\") +\n",
    "         theme(text = element_text(size = 20))\n",
    "\n",
    "lm_predictions_age"
   ]
  },
  {
   "cell_type": "code",
   "execution_count": null,
   "id": "b284e04c-d3cb-4fdf-9789-d784ee733890",
   "metadata": {
    "tags": []
   },
   "outputs": [],
   "source": [
    "options(repr.plot.width = 8, repr.plot.height = 7)\n",
    "\n",
    "\n",
    "test_preds_age <- predict(lm_fit_age, player_test)\n",
    "test_preds_final_age <- bind_cols(test_preds_age, player_test)\n",
    "\n",
    "lm_predictions_age_test <- ggplot(data = player_test, aes(x = age, y = prize_money)) +\n",
    "  geom_point(alpha = 0.4) +\n",
    "  geom_line(data = test_preds_final_age, aes(x = age , y = .pred), color = \"yellow\", size = 1) +\n",
    "      labs(x = \"Age\", y = \"Prize Money (Actual and Predicted)\") +\n",
    "  ggtitle(\"Linear Regression Model Predictions on Test Data\") +\n",
    "  theme(text = element_text(size = 20))\n",
    "\n",
    "\n",
    "lm_predictions_age_test"
   ]
  },
  {
   "cell_type": "markdown",
   "id": "8c116d92-ea93-45f7-913b-746fddbc4066",
   "metadata": {},
   "source": [
    "## Model: Model Predictions (Dominant Hand)"
   ]
  },
  {
   "cell_type": "code",
   "execution_count": null,
   "id": "5a6d500e-386a-4ad7-8bb2-83cc364d91fc",
   "metadata": {
    "tags": []
   },
   "outputs": [],
   "source": [
    "#Right-handed\n",
    "lm_recipe_dominant_1 <- recipe(prize_money ~ dominant_dummy, data = dominant_dummy_1)\n",
    "\n",
    "lm_fit_dominant_1 <- workflow() |>\n",
    "  add_recipe(lm_recipe_dominant_1) |>\n",
    "  add_model(lm_spec) |>\n",
    "  fit(data = dominant_dummy_1)\n",
    "\n",
    "dominant_1_preds <- lm_fit_dominant_1 |>\n",
    "   predict(dominant_dummy_1) |>\n",
    "   bind_cols(dominant_dummy_1)\n",
    "\n",
    "lm_predictions_dominant_1 <- dominant_1_preds |>\n",
    "     ggplot(aes(x = dominant_dummy, y = prize_money)) +\n",
    " geom_boxplot(alpha=0.4) +\n",
    "  xlab(\"Dominant hand\") +\n",
    "  xlim(0,1) +\n",
    "  ylim(0, 2500000) +\n",
    "  scale_x_continuous(breaks = c(0, 1), labels = c(\"Left-handed\",\"Right-handed\")) +\n",
    "  ylab(\"Prize Money (USD)\") +\n",
    "  labs(color = \"Dominant hand\") +\n",
    "  theme(text = element_text(size = 12)) +\n",
    "  ggtitle(\"Prize Money (USD) VS Dominant Hand (right-handed) on Training Data\")\n",
    "\n",
    "#Left-handed\n",
    "lm_recipe_dominant_0 <- recipe(prize_money ~ dominant_dummy, data = dominant_dummy_0)\n",
    "\n",
    "lm_fit_dominant_0 <- workflow() |>\n",
    "  add_recipe(lm_recipe_dominant_0) |>\n",
    "  add_model(lm_spec) |>\n",
    "  fit(data = dominant_dummy_0)\n",
    "\n",
    "dominant_0_preds <- lm_fit_dominant_0 |>\n",
    "   predict(dominant_dummy_0) |>\n",
    "   bind_cols(dominant_dummy_0)\n",
    "\n",
    "lm_predictions_dominant_0 <- dominant_0_preds |>\n",
    "     ggplot(aes(x = dominant_dummy, y = prize_money)) +\n",
    " geom_boxplot(alpha=0.4) +\n",
    "  xlab(\"Dominant hand\") +\n",
    "  xlim(0,1) +\n",
    "  ylim(0, 2500000) +\n",
    "  scale_x_continuous(breaks = c(0, 1), labels = c(\"Left-handed\",\"Right-handed\")) +\n",
    "  ylab(\"Prize Money (USD)\") +\n",
    "  labs(color = \"Dominant hand\") +\n",
    "  theme(text = element_text(size = 12)) +\n",
    "  ggtitle(\"Prize Money (USD) VS Dominant Hand (left-handed) on Training Data\")\n",
    "\n",
    "\n",
    "\n",
    "\n",
    "options(repr.plot.width = 12, repr.plot.height = 5) \n",
    "\n",
    "\n",
    "\n",
    "lm_predictions_dominant <- plot_grid(\n",
    "lm_predictions_dominant_1,\n",
    "lm_predictions_dominant_0,\n",
    "     nrow = 1\n",
    " )\n",
    "lm_predictions_dominant"
   ]
  },
  {
   "cell_type": "code",
   "execution_count": null,
   "id": "35cc0800-d425-450a-bbd3-9285700c0643",
   "metadata": {
    "tags": []
   },
   "outputs": [],
   "source": [
    "#Right-handed\n",
    "lm_recipe_dominant_1_test <- recipe(prize_money ~ dominant_dummy, data = dominant_dummy_1_test)\n",
    "\n",
    "lm_fit_dominant_1_test <- workflow() |>\n",
    "  add_recipe(lm_recipe_dominant_1_test) |>\n",
    "  add_model(lm_spec) |>\n",
    "  fit(data = dominant_dummy_1_test)\n",
    "\n",
    "dominant_1_preds_test <- lm_fit_dominant_1_test |>\n",
    "   predict(dominant_dummy_1_test) |>\n",
    "   bind_cols(dominant_dummy_1_test)\n",
    "\n",
    "lm_predictions_dominant_1_test <- dominant_1_preds_test |>\n",
    "     ggplot(aes(x = dominant_dummy, y = prize_money)) +\n",
    " geom_boxplot(alpha=0.4) +\n",
    "  xlab(\"Dominant hand\") +\n",
    "  xlim(0,1) +\n",
    "  ylim(0, 2500000) +\n",
    "  scale_x_continuous(breaks = c(0, 1), labels = c(\"Left-handed\",\"Right-handed\")) +\n",
    "  ylab(\"Prize Money (USD)\") +\n",
    "  labs(color = \"Dominant hand\") +\n",
    "  theme(text = element_text(size = 12)) +\n",
    "  ggtitle(\"Prize Money (USD) VS Dominant Hand (right-handed) on Test Data\")\n",
    "\n",
    "#Left-handed\n",
    "lm_recipe_dominant_0_test <- recipe(prize_money ~ dominant_dummy, data = dominant_dummy_0_test)\n",
    "\n",
    "lm_fit_dominant_0_test <- workflow() |>\n",
    "  add_recipe(lm_recipe_dominant_0_test) |>\n",
    "  add_model(lm_spec) |>\n",
    "  fit(data = dominant_dummy_0_test)\n",
    "\n",
    "dominant_0_preds_test <- lm_fit_dominant_0_test |>\n",
    "   predict(dominant_dummy_0_test) |>\n",
    "   bind_cols(dominant_dummy_0_test)\n",
    "\n",
    "lm_predictions_dominant_0_test <- dominant_0_preds_test |>\n",
    "     ggplot(aes(x = dominant_dummy, y = prize_money)) +\n",
    " geom_boxplot(alpha=0.4) +\n",
    "  xlab(\"Dominant hand\") +\n",
    "  xlim(0,1) +\n",
    "  ylim(0, 2500000) +\n",
    "  scale_x_continuous(breaks = c(0, 1), labels = c(\"Left-handed\",\"Right-handed\")) +\n",
    "  ylab(\"Prize Money (USD)\") +\n",
    "  labs(color = \"Dominant hand\") +\n",
    "  theme(text = element_text(size = 12)) +\n",
    "  ggtitle(\"Prize Money (USD) VS Dominant Hand (left-handed) on Test Data\")\n",
    "\n",
    "\n",
    "\n",
    "\n",
    "options(repr.plot.width = 12, repr.plot.height = 5) \n",
    "\n",
    "\n",
    "\n",
    "lm_predictions_dominant_test <- plot_grid(\n",
    "lm_predictions_dominant_1_test,\n",
    "lm_predictions_dominant_0_test,\n",
    "     nrow = 1\n",
    " )\n",
    "lm_predictions_dominant_test"
   ]
  },
  {
   "cell_type": "markdown",
   "id": "fd9980ed-fcbd-4459-a80d-9dc4fd7809c3",
   "metadata": {},
   "source": [
    "## Model: Model Predictions (BackHand)"
   ]
  },
  {
   "cell_type": "code",
   "execution_count": null,
   "id": "601bd253-ff1f-4a7f-a3d1-8766cfc1fa0a",
   "metadata": {
    "tags": []
   },
   "outputs": [],
   "source": [
    "#One-handed\n",
    "lm_recipe_backhand_1 <- recipe(prize_money ~ backhand_dummy, data = backhand_dummy_1)\n",
    "\n",
    "lm_fit_backhand_1 <- workflow() |>\n",
    "  add_recipe(lm_recipe_backhand_1) |>\n",
    "  add_model(lm_spec) |>\n",
    "  fit(data = backhand_dummy_1)\n",
    "\n",
    "backhand_1_preds <- lm_fit_backhand_1 |>\n",
    "   predict(backhand_dummy_1) |>\n",
    "   bind_cols(backhand_dummy_1)\n",
    "\n",
    "lm_predictions_backhand_1 <- backhand_1_preds |>\n",
    "     ggplot(aes(x = backhand_dummy, y = prize_money)) +\n",
    " geom_boxplot(alpha=0.4) +\n",
    "  xlab(\"Backhand\") +\n",
    "  xlim(0,1) +\n",
    "  ylim(0, 2500000) +\n",
    "  scale_x_continuous(breaks = c(0, 1), labels = c(\"Two-handed\",\"One-handed\")) +\n",
    "  ylab(\"Prize Money (USD)\") +\n",
    "  labs(color = \"Backhand\") +\n",
    "  theme(text = element_text(size = 12)) +\n",
    "  ggtitle(\"Prize Money (USD) VS Backhand (one-handed) on Training Data\")\n",
    "\n",
    "#Two-handed\n",
    "lm_recipe_backhand_0 <- recipe(prize_money ~ backhand_dummy, data = backhand_dummy_0)\n",
    "\n",
    "lm_fit_backhand_0 <- workflow() |>\n",
    "  add_recipe(lm_recipe_backhand_0) |>\n",
    "  add_model(lm_spec) |>\n",
    "  fit(data = backhand_dummy_0)\n",
    "\n",
    "backhand_0_preds <- lm_fit_backhand_0 |>\n",
    "   predict(backhand_dummy_0) |>\n",
    "   bind_cols(backhand_dummy_0)\n",
    "\n",
    "lm_predictions_backhand_0 <- backhand_0_preds |>\n",
    "     ggplot(aes(x = backhand_dummy, y = prize_money)) +\n",
    " geom_boxplot(alpha=0.4) +\n",
    "  xlab(\"Backhand\") +\n",
    "  xlim(0,1) +\n",
    "  ylim(0, 2500000) +\n",
    "  scale_x_continuous(breaks = c(0, 1), labels = c(\"Two-handed\",\"One-handed\")) +\n",
    "  ylab(\"Prize Money (USD)\") +\n",
    "  labs(color = \"Backhand\") +\n",
    "  theme(text = element_text(size = 12)) +\n",
    "  ggtitle(\"Prize Money (USD) VS Backhand (two-handed) on Training Data\")\n",
    "\n",
    "\n",
    "\n",
    "\n",
    "options(repr.plot.width = 12, repr.plot.height = 5) \n",
    "\n",
    "\n",
    "\n",
    "lm_predictions_backhand <- plot_grid(\n",
    "lm_predictions_backhand_1,\n",
    "lm_predictions_backhand_0,\n",
    "     nrow = 1\n",
    " )\n",
    "lm_predictions_backhand"
   ]
  },
  {
   "cell_type": "code",
   "execution_count": null,
   "id": "07104d45-8350-4a78-8040-4534d15bbeeb",
   "metadata": {
    "tags": []
   },
   "outputs": [],
   "source": [
    "#One-handed\n",
    "lm_recipe_backhand_1_test <- recipe(prize_money ~ backhand_dummy, data = backhand_dummy_1_test)\n",
    "\n",
    "lm_fit_backhand_1_test <- workflow() |>\n",
    "  add_recipe(lm_recipe_backhand_1_test) |>\n",
    "  add_model(lm_spec) |>\n",
    "  fit(data = backhand_dummy_1_test)\n",
    "\n",
    "backhand_1_preds_test <- lm_fit_backhand_1_test |>\n",
    "   predict(backhand_dummy_1_test) |>\n",
    "   bind_cols(backhand_dummy_1_test)\n",
    "\n",
    "lm_predictions_backhand_1_test <- backhand_1_preds_test |>\n",
    "     ggplot(aes(x = backhand_dummy, y = prize_money)) +\n",
    " geom_boxplot(alpha=0.4) +\n",
    "  xlab(\"Backhand\") +\n",
    "  xlim(0,1) +\n",
    "  ylim(0, 2500000) +\n",
    "  scale_x_continuous(breaks = c(0, 1), labels = c(\"Two-handed\",\"One-handed\")) +\n",
    "  ylab(\"Prize Money (USD)\") +\n",
    "  labs(color = \"Backhand\") +\n",
    "  theme(text = element_text(size = 12)) +\n",
    "  ggtitle(\"Prize Money (USD) VS Backhand (one-handed) on Test Data\")\n",
    "\n",
    "#Two-handed\n",
    "lm_recipe_backhand_0_test <- recipe(prize_money ~ backhand_dummy, data = backhand_dummy_0_test)\n",
    "\n",
    "lm_fit_backhand_0_test <- workflow() |>\n",
    "  add_recipe(lm_recipe_backhand_0_test) |>\n",
    "  add_model(lm_spec) |>\n",
    "  fit(data = backhand_dummy_0_test)\n",
    "\n",
    "backhand_0_preds_test <- lm_fit_backhand_0_test |>\n",
    "   predict(backhand_dummy_0_test) |>\n",
    "   bind_cols(backhand_dummy_0_test)\n",
    "\n",
    "lm_predictions_backhand_0_test <- backhand_0_preds_test |>\n",
    "     ggplot(aes(x = backhand_dummy, y = prize_money)) +\n",
    " geom_boxplot(alpha=0.4) +\n",
    "  xlab(\"Backhand\") +\n",
    "  xlim(0,1) +\n",
    "  ylim(0, 2500000) +\n",
    "  scale_x_continuous(breaks = c(0, 1), labels = c(\"Two-handed\",\"One-handed\")) +\n",
    "  ylab(\"Prize Money (USD)\") +\n",
    "  labs(color = \"Backhand\") +\n",
    "  theme(text = element_text(size = 12)) +\n",
    "  ggtitle(\"Prize Money (USD) VS Backhand (two-handed) on Test Data\")\n",
    "\n",
    "\n",
    "\n",
    "\n",
    "options(repr.plot.width = 12, repr.plot.height = 5) \n",
    "\n",
    "\n",
    "\n",
    "lm_predictions_backhand_test <- plot_grid(\n",
    "lm_predictions_backhand_1_test,\n",
    "lm_predictions_backhand_0_test,\n",
    "     nrow = 1\n",
    " )\n",
    "lm_predictions_backhand_test"
   ]
  },
  {
   "cell_type": "markdown",
   "id": "9361391b-0e62-4506-a55e-9de9ee1b6182",
   "metadata": {},
   "source": [
    "## Model: Linear Regression (Multivariable)\n",
    "After analyzing the different variables in comparison to prize money, we want to calculate for the RMSPE of the data. We want to calculate the RMSPE of both the training data set and testing training set and compare them. This purpose of the RMSPE in these cases is to test the accuracy of our model. Thus, we first want to create the training set model we will use to predict our accuracy."
   ]
  },
  {
   "cell_type": "code",
   "execution_count": null,
   "id": "d16876af-4a45-4fac-9f9e-63dfcd6d0429",
   "metadata": {
    "tags": []
   },
   "outputs": [],
   "source": [
    "lm_spec <- linear_reg() |>\n",
    "  set_engine(\"lm\") |>\n",
    "  set_mode(\"regression\")\n",
    "\n",
    "lm_recipe_train <- recipe(prize_money ~ ., data = player_train) |>\n",
    "  update_role(prize_money, new_role = \"outcome\")\n",
    "\n",
    "\n",
    "lm_fit_train <- workflow() |>\n",
    "  add_recipe(lm_recipe_train) |>\n",
    "  add_model(lm_spec)|>\n",
    "  fit(data=player_train)\n",
    "\n",
    "player_preds <- lm_fit_train |>\n",
    "   predict(player_train) |>\n",
    "   bind_cols(player_train)\n",
    "\n",
    "lm_rmspe_train <- lm_fit_train |>\n",
    "         predict(player_train) |>\n",
    "         bind_cols(player_train) |>\n",
    "         metrics(truth = prize_money, estimate = .pred)|>\n",
    "         filter(.metric == \"rmse\") |>\n",
    "         select(.estimate) |>\n",
    "         pull()\n",
    "lm_rmspe_train "
   ]
  },
  {
   "cell_type": "markdown",
   "id": "2d8ae34d-a994-41e4-9e07-8e8c3f4b0fda",
   "metadata": {},
   "source": [
    "After creating the model for our training model, we calculated for the model's RMSPE, which ended up being 357155722.800104 and also turns out to be the slope for our multi-variable linear regression (which we cannot calculate). With this information, we don't know how accurate our training model is compared to our training set, which leads to our next step: Calculating for the RMSPE of the testing set."
   ]
  },
  {
   "cell_type": "code",
   "execution_count": null,
   "id": "9f316e70-84d2-4eac-86d2-c9ad358ce042",
   "metadata": {
    "tags": []
   },
   "outputs": [],
   "source": [
    "lm_recipe_test <- recipe(prize_money ~ ., data = player_test) |>\n",
    "  update_role(prize_money, new_role = \"outcome\")\n",
    "\n",
    "\n",
    "lm_fit_test <- workflow() |>\n",
    "  add_recipe(lm_recipe_test) |>\n",
    "  add_model(lm_spec)|>\n",
    "  fit(data=player_test)\n",
    "\n",
    "player_preds <- lm_fit_test |>\n",
    "   predict(player_test) |>\n",
    "   bind_cols(player_test)\n",
    "\n",
    "lm_rmspe_test <- lm_fit_test |>\n",
    "         predict(player_test) |>\n",
    "         bind_cols(player_test) |>\n",
    "         metrics(truth = prize_money, estimate = .pred)|>\n",
    "         filter(.metric == \"rmse\") |>\n",
    "         select(.estimate) |>\n",
    "         pull()\n",
    "lm_rmspe_test"
   ]
  },
  {
   "cell_type": "markdown",
   "id": "8e7581f8-431c-4214-8c80-c1f38467e016",
   "metadata": {},
   "source": [
    "The RMSPE we found for our testing data is 372464532.64195. The purpose of the testing RMSPE is to help us assess the general ability of the model. Knowing that our m\n",
    "We get slopes/intercept from linear regression. We extract those slope values from our model object as shown below:"
   ]
  },
  {
   "cell_type": "code",
   "execution_count": null,
   "id": "967a784d-fc14-45aa-955e-7bbd101f6a17",
   "metadata": {
    "tags": []
   },
   "outputs": [],
   "source": [
    "mcoeffs <- lm_fit_test |>\n",
    "             extract_fit_parsnip() |>\n",
    "             tidy()\n",
    "\n",
    "mcoeffs\n",
    "\n",
    "#Table 2"
   ]
  },
  {
   "cell_type": "markdown",
   "id": "900a8115-2710-4fa3-9f8d-9ff206b998b9",
   "metadata": {},
   "source": [
    "And then use those slopes to write a mathematical equation to describe the prediction plane:\n",
    "\n",
    "prize money = `β0` + `β1`⋅(age) + `β2`⋅(current rank) + `β3`⋅(best rank) + `β4`⋅(dominant hand) + `β5`⋅(backhand)\n",
    "\n",
    "`β0` is the vertical intercept of the hyperplane (the prize money when all variables are 0)\n",
    "\n",
    "`β1` is the slope for the first predictor (the rate of change in prize money as players age, holding all other control variables constant)\n",
    "\n",
    "`β2` is the slope for the second predictor (the rate of change in prize money as a player's current ranking falls, holding all other control variables constant)\n",
    "\n",
    "`β3` is the slope for the third predictor (the rate of change in prize money as a player's best ranking falls, holding all other control variables constant)\n",
    "\n",
    "`β4` is the slope for the fourth predictor (the rate of change in prize money when a player uses his right hand, holding all other control variables constant)\n",
    "\n",
    "`β5` is the slope for the fifth predictor (the rate of change in prize money when a player hits the ball with a one-handed backhand, holding all other control variables constant)\n",
    "\n",
    "Finally, we can fill in the values for `β0`, `β1`, `β2`, `β3`, `β4`, `β5` from the model output above to create the equation of the plane of best fit to the data:\n",
    "\n",
    "prize money = -350431610.3 + 15935143.5⋅(age) − 793521.2⋅(current rank) + 210345.6⋅(best rank) + 151159217.6⋅(dominant hand) + 104711771.3⋅(backhand)"
   ]
  },
  {
   "cell_type": "markdown",
   "id": "367d0fff-d815-4781-b7ac-3dc6b3a1e774",
   "metadata": {},
   "source": [
    "## Discussion:\n",
    "Our findings indicate that the best ranking points has the postive impact on increasing prize money (since smaller ranking points represent higher rankings, the positive coefficient means that the higher ranking points, the higher the prize money, and the lower ranking points, the lower the prize money). For each lower ranking, the prize money increases by $210,345.6. The current ranking points has the negative impact on increasing prize money (since smaller ranking points represent higher rankings, the negative coefficient means that the lower ranking points, the higher the prize money, and the higher ranking points, the lower the prize money). For each higher ranking, the prize money increases by $793,521.2. A paper that examines the relationship between tennis rankings and prize money states that in 2017, the top 100 tennis players in the rankings received about 90 % of the total prize money on the tour that year, and inequality is also evident in the top 100, with the top 20 players earning more than 55  of all prize money, while the bottom half of the top 100 received less than one-fifth of the prize money of the top 100 (JEANGOUT, 2017). The positive relation between best rank and price money from our linear regression model is consistent with the conclusion that the higher the rank in the paper, the more price money it takes.\n",
    "\n",
    "We expected that our main independet variable current ranking points and best ranking points would have negative correlation with prize money (since smaller ranking points represent higher rankings, the negative coefficient means that the smaller ranking points, the higher the prize money) . However, the results of best ranking points the results of the best ranking points were not what we expected. We guess this is due to the fact that we are using a linear regression model and the dataset is not fitted enough. From Figure 2 we can see that the relationship between current rank and prize money is non-linear correlation, so in the future maybe we should use a more accurate regression model. \n",
    "\n",
    "We can also conclude that age has the postive impact on increasing prize money. For each additional year of age, the prize money increases by $15,935,143.5.  For dominant hands, our results show that right-handed players will have an additional $151,159,217.6 in prize money. For backhand use, our results show that one-handed players will have an additional $415,900,163.0 in prize money.\n",
    "\n",
    "\n",
    "\n",
    "\n",
    "- discuss whether this is what you expected to find?\n",
    "- discuss what impact could such findings have?\n",
    "- discuss what future questions could this lead to?"
   ]
  },
  {
   "cell_type": "markdown",
   "id": "2e71ba5b-8e99-4166-856d-9f781054059b",
   "metadata": {},
   "source": [
    "## References\n",
    "- At least 2 citations of literature relevant to the project (format is your choice, just be consistent across the references).\n",
    "- Make sure to cite the source of your data as well."
   ]
  },
  {
   "cell_type": "markdown",
   "id": "0da286fc-1104-436f-8595-5415edf7f404",
   "metadata": {},
   "source": [
    "1. Holtzen, D. W. (2000). Handedness and Professional Tennis. International Journal of Neuroscience, 105(1-4), 101–119. https://doi.org/10.3109/00207450009003270\n",
    "\n",
    "2. JEANGOUT, C., & Vannetelbosch, V. \" Analysis of the Evolution of Inequalities in Prize Money due to Ranking in Professional Tennis."
   ]
  },
  {
   "cell_type": "code",
   "execution_count": null,
   "id": "4a0f87ea-47a5-40bf-80ed-f9ebf29c3f5d",
   "metadata": {},
   "outputs": [],
   "source": []
  },
  {
   "cell_type": "code",
   "execution_count": null,
   "id": "1703c23c-29aa-4fab-bc21-b3e7fec08297",
   "metadata": {},
   "outputs": [],
   "source": []
  }
 ],
 "metadata": {
  "kernelspec": {
   "display_name": "R",
   "language": "R",
   "name": "ir"
  },
  "language_info": {
   "codemirror_mode": "r",
   "file_extension": ".r",
   "mimetype": "text/x-r-source",
   "name": "R",
   "pygments_lexer": "r",
   "version": "4.2.2"
  },
  "widgets": {
   "application/vnd.jupyter.widget-state+json": {
    "state": {},
    "version_major": 2,
    "version_minor": 0
   }
  }
 },
 "nbformat": 4,
 "nbformat_minor": 5
}
